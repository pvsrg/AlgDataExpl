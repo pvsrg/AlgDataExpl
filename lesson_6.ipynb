{
 "cells": [
  {
   "cell_type": "markdown",
   "metadata": {
    "id": "JNFJJBZHXE2Y"
   },
   "source": [
    "# Практическая работа №6"
   ]
  },
  {
   "cell_type": "markdown",
   "metadata": {
    "id": "Bp7ACPuFXE96"
   },
   "source": [
    "### __Задание 1:__ Для реализованной в методичке модели градиентного бустинга построить графики зависимости ошибки от количества деревьев в ансамбле и от максимальной глубины деревьев. Сделать выводы о зависимости ошибки от этих параметров."
   ]
  },
  {
   "cell_type": "code",
   "execution_count": 1,
   "metadata": {
    "executionInfo": {
     "elapsed": 470,
     "status": "ok",
     "timestamp": 1633083730683,
     "user": {
      "displayName": "Сергей Певцов",
      "photoUrl": "https://lh3.googleusercontent.com/a/default-user=s64",
      "userId": "03620521566451851588"
     },
     "user_tz": -180
    },
    "id": "CCvSzUsD_Nwp"
   },
   "outputs": [],
   "source": [
    "from sklearn.tree import DecisionTreeRegressor\n",
    "\n",
    "from sklearn import model_selection\n",
    "import numpy as np\n",
    "\n",
    "from sklearn.datasets import load_diabetes\n",
    "\n",
    "import matplotlib.pyplot as plt\n",
    "\n",
    "import random"
   ]
  },
  {
   "cell_type": "code",
   "execution_count": 2,
   "metadata": {
    "executionInfo": {
     "elapsed": 12,
     "status": "ok",
     "timestamp": 1633083730687,
     "user": {
      "displayName": "Сергей Певцов",
      "photoUrl": "https://lh3.googleusercontent.com/a/default-user=s64",
      "userId": "03620521566451851588"
     },
     "user_tz": -180
    },
    "id": "sUlvg5ek_d3S"
   },
   "outputs": [],
   "source": [
    "X, y = load_diabetes(return_X_y=True)\n",
    "X_train, X_test, y_train, y_test = model_selection.train_test_split(X, y, test_size=0.25)"
   ]
  },
  {
   "cell_type": "code",
   "execution_count": 3,
   "metadata": {
    "colab": {
     "base_uri": "https://localhost:8080/"
    },
    "executionInfo": {
     "elapsed": 452,
     "status": "ok",
     "timestamp": 1633083947724,
     "user": {
      "displayName": "Сергей Певцов",
      "photoUrl": "https://lh3.googleusercontent.com/a/default-user=s64",
      "userId": "03620521566451851588"
     },
     "user_tz": -180
    },
    "id": "uimysIplYwXQ",
    "outputId": "c5d679a7-af47-4ea7-8f3d-05595d017f10"
   },
   "outputs": [
    {
     "data": {
      "text/plain": [
       "152.13348416289594"
      ]
     },
     "execution_count": 3,
     "metadata": {},
     "output_type": "execute_result"
    }
   ],
   "source": [
    "y.mean()"
   ]
  },
  {
   "cell_type": "code",
   "execution_count": 4,
   "metadata": {
    "id": "C8qoWJom_d81"
   },
   "outputs": [],
   "source": [
    "def gb_predict(X, trees_list, coef_list, eta):\n",
    "    # Реализуемый алгоритм градиентного бустинга будет инициализироваться нулевыми значениями,\n",
    "    # поэтому все деревья из списка trees_list уже являются дополнительными и при предсказании прибавляются с шагом eta\n",
    "    return np.array([sum([eta* coef * alg.predict([x])[0] for alg, coef in zip(trees_list, coef_list)]) for x in X])\n",
    "    "
   ]
  },
  {
   "cell_type": "code",
   "execution_count": 5,
   "metadata": {
    "id": "5MhStkPf_eBX"
   },
   "outputs": [],
   "source": [
    "def mean_squared_error(y_real, prediction):\n",
    "    return (sum((y_real - prediction)**2)) / len(y_real)"
   ]
  },
  {
   "cell_type": "code",
   "execution_count": 6,
   "metadata": {
    "id": "bRCfSHH7_eEv"
   },
   "outputs": [],
   "source": [
    "def bias(y, z):\n",
    "    return (y - z)"
   ]
  },
  {
   "cell_type": "code",
   "execution_count": 7,
   "metadata": {
    "id": "UCTYv3uH_eI-"
   },
   "outputs": [],
   "source": [
    "def gb_fit(n_trees, max_depth, X_train, X_test, y_train, y_test, coefs, eta, batch_rate=1.0):\n",
    "    \n",
    "    # Деревья будем записывать в список\n",
    "    trees = []\n",
    "    \n",
    "    # Будем записывать ошибки на обучающей и тестовой выборке на каждой итерации в список\n",
    "    train_errors = []\n",
    "    test_errors = []\n",
    "    \n",
    "    for i in range(n_trees):\n",
    "        tree = DecisionTreeRegressor(max_depth=max_depth, random_state=42)\n",
    "\n",
    "        # будем обучать модель не на полной выборке, а только на части  случайных объектов\n",
    "        idx = np.array([ False for _ in range(X_train.shape[0])])\n",
    "        idx_indexes = list(range(0, idx.shape[0]))\n",
    "        random.shuffle(idx_indexes)\n",
    "        idx_indexes = np.resize(idx_indexes, int(len(idx_indexes)*batch_rate))\n",
    "        idx[idx_indexes]= True\n",
    "\n",
    "        # инициализируем бустинг начальным алгоритмом, возвращающим ноль, \n",
    "        # поэтому первый алгоритм просто обучаем на выборке и добавляем в список\n",
    "        if len(trees) == 0:\n",
    "            # обучаем первое дерево на обучающей выборке\n",
    "            tree.fit(X_train[idx], y_train[idx])\n",
    "            \n",
    "            train_errors.append(mean_squared_error(y_train, gb_predict(X_train, trees, coefs, eta)))\n",
    "            test_errors.append(mean_squared_error(y_test, gb_predict(X_test, trees, coefs, eta)))\n",
    "        else:\n",
    "            # Получим ответы на текущей композиции\n",
    "            target = gb_predict(X_train, trees, coefs, eta)\n",
    "            \n",
    "            # алгоритмы начиная со второго обучаем на сдвиг\n",
    "            tree.fit(X_train[idx], bias(y_train[idx], target[idx]))\n",
    "            \n",
    "            train_errors.append(mean_squared_error(y_train, gb_predict(X_train, trees, coefs, eta)))\n",
    "            test_errors.append(mean_squared_error(y_test, gb_predict(X_test, trees, coefs, eta)))\n",
    "\n",
    "        trees.append(tree)\n",
    "        \n",
    "    return trees, train_errors, test_errors"
   ]
  },
  {
   "cell_type": "code",
   "execution_count": 8,
   "metadata": {
    "id": "q9tR-Tni_eM-"
   },
   "outputs": [],
   "source": [
    "def get_error_plot(n_trees, train_err, test_err, x_label='Iteration number', label1_name='train error', label2_name='test error'):\n",
    "    plt.xlabel(x_label)\n",
    "    plt.ylabel('MSE')\n",
    "    plt.xlim(0, n_trees)\n",
    "    plt.plot(list(range(n_trees)), train_err, label=label1_name)\n",
    "    plt.plot(list(range(n_trees)), test_err, label=label2_name)\n",
    "    plt.legend(loc='upper right')\n",
    "    plt.show()"
   ]
  },
  {
   "cell_type": "code",
   "execution_count": 9,
   "metadata": {
    "id": "324Ib-qz_eQ0"
   },
   "outputs": [],
   "source": [
    "# Число деревьев в ансамбле\n",
    "n_trees = 100\n",
    "\n",
    "# для простоты примем коэффициенты равными 1\n",
    "coefs = [1] * n_trees\n",
    "\n",
    "# Шаг\n",
    "eta = 0.05\n",
    "\n",
    "# Максимальная глубина деревьев\n",
    "max_depth = 3\n",
    "\n",
    "trees, train_errors, test_errors = gb_fit(n_trees, max_depth, X_train, X_test, y_train, y_test, coefs, eta)"
   ]
  },
  {
   "cell_type": "code",
   "execution_count": 10,
   "metadata": {
    "colab": {
     "base_uri": "https://localhost:8080/",
     "height": 279
    },
    "executionInfo": {
     "elapsed": 15,
     "status": "ok",
     "timestamp": 1632947708283,
     "user": {
      "displayName": "Сергей Певцов",
      "photoUrl": "https://lh3.googleusercontent.com/a/default-user=s64",
      "userId": "03620521566451851588"
     },
     "user_tz": -180
    },
    "id": "LmfrsBe1_eVO",
    "outputId": "1b5dc19c-7d33-47b3-f038-397a8b43dfec"
   },
   "outputs": [
    {
     "data": {
      "image/png": "[encoded data removed]",
      "text/plain": [
       "<Figure size 432x288 with 1 Axes>"
      ]
     },
     "metadata": {
      "needs_background": "light"
     },
     "output_type": "display_data"
    }
   ],
   "source": [
    "get_error_plot(n_trees, train_errors, test_errors, x_label='Trees number')"
   ]
  },
  {
   "cell_type": "markdown",
   "metadata": {
    "id": "coCVseij4nja"
   },
   "source": [
    "При шаге обучения 0.05 алгоритм сходится в районе 30 деревьев "
   ]
  },
  {
   "cell_type": "markdown",
   "metadata": {
    "id": "y0TDuEs44-Nj"
   },
   "source": [
    "Посчитаем ошибку при разной глубине деревьев"
   ]
  },
  {
   "cell_type": "code",
   "execution_count": 11,
   "metadata": {
    "id": "eI9NxaTj_eZv"
   },
   "outputs": [],
   "source": [
    "n_trees = 30\n",
    "\n",
    "n_depth = 10\n",
    "train_err = []\n",
    "test_err = []\n",
    "for depth in range(1, n_depth+1):\n",
    "    trees, train_errors, test_errors = gb_fit(n_trees, depth, X_train, X_test, y_train, y_test, coefs, eta)\n",
    "    train_err.append(train_errors[-1])\n",
    "    test_err.append(test_errors[-1])"
   ]
  },
  {
   "cell_type": "code",
   "execution_count": 12,
   "metadata": {
    "colab": {
     "base_uri": "https://localhost:8080/",
     "height": 279
    },
    "executionInfo": {
     "elapsed": 17,
     "status": "ok",
     "timestamp": 1632947929237,
     "user": {
      "displayName": "Сергей Певцов",
      "photoUrl": "https://lh3.googleusercontent.com/a/default-user=s64",
      "userId": "03620521566451851588"
     },
     "user_tz": -180
    },
    "id": "bSHXPmPH_edV",
    "outputId": "4ebd6d6c-e66c-4160-d277-33de2040200b"
   },
   "outputs": [
    {
     "data": {
      "image/png": "[encoded data removed]",
      "text/plain": [
       "<Figure size 432x288 with 1 Axes>"
      ]
     },
     "metadata": {
      "needs_background": "light"
     },
     "output_type": "display_data"
    }
   ],
   "source": [
    "get_error_plot(n_depth, train_err, test_err, x_label='Depth number')"
   ]
  },
  {
   "cell_type": "code",
   "execution_count": null,
   "metadata": {
    "id": "IW1kEsFW_egu"
   },
   "outputs": [],
   "source": []
  },
  {
   "cell_type": "markdown",
   "metadata": {
    "id": "54FK6FME92jB"
   },
   "source": []
  },
  {
   "cell_type": "code",
   "execution_count": 13,
   "metadata": {
    "id": "oVQMDZou_ejp"
   },
   "outputs": [],
   "source": [
    "# Число деревьев в ансамбле\n",
    "n_trees = 30\n",
    "\n",
    "# Максимальная глубина деревьев\n",
    "max_depth = 5\n",
    "\n",
    "trees, train_errors, test_errors = gb_fit(n_trees, max_depth, X_train, X_test, y_train, y_test, coefs, eta)"
   ]
  },
  {
   "cell_type": "code",
   "execution_count": 14,
   "metadata": {
    "colab": {
     "base_uri": "https://localhost:8080/",
     "height": 279
    },
    "executionInfo": {
     "elapsed": 15,
     "status": "ok",
     "timestamp": 1632948386412,
     "user": {
      "displayName": "Сергей Певцов",
      "photoUrl": "https://lh3.googleusercontent.com/a/default-user=s64",
      "userId": "03620521566451851588"
     },
     "user_tz": -180
    },
    "id": "6n-_siW3-BLU",
    "outputId": "7d191db7-8058-4d07-94b8-c325220d5f3a"
   },
   "outputs": [
    {
     "data": {
      "image/png": "[encoded data removed]",
      "text/plain": [
       "<Figure size 432x288 with 1 Axes>"
      ]
     },
     "metadata": {
      "needs_background": "light"
     },
     "output_type": "display_data"
    }
   ],
   "source": [
    "get_error_plot(n_trees, train_errors, test_errors, x_label='Trees number')"
   ]
  },
  {
   "cell_type": "markdown",
   "metadata": {
    "id": "xFAXCDEe_Tjr"
   },
   "source": [
    "При увеличении максимальной глубины до 7 алгоритм сходится на 15-20 деревьях, но ошибка возрастает с 3.5 до 5 тысяч."
   ]
  },
  {
   "cell_type": "markdown",
   "metadata": {
    "id": "LvNsCfs_AB6g"
   },
   "source": [
    "## __Задание 2: (опция) .__ Модифицировать реализованный алгоритм, чтобы получился стохастический градиентный бустинг. Размер подвыборки принять равным 0.5. Сравнить на одном графике кривые изменения ошибки на тестовой выборке в зависимости от числа итераций."
   ]
  },
  {
   "cell_type": "code",
   "execution_count": 16,
   "metadata": {
    "id": "-HBb6e97LKao"
   },
   "outputs": [],
   "source": [
    "# Число деревьев в ансамбле\n",
    "n_trees = 40\n",
    "\n",
    "# Максимальная глубина деревьев\n",
    "max_depth = 7\n",
    "\n",
    "trees1, train_errors1, test_errors1 = gb_fit(n_trees, max_depth, X_train, X_test, y_train, y_test, coefs, eta)\n",
    "trees2, train_errors2, test_errors2 = gb_fit(n_trees, max_depth, X_train, X_test, y_train, y_test, coefs, eta, batch_rate=0.5)"
   ]
  },
  {
   "cell_type": "code",
   "execution_count": 17,
   "metadata": {
    "colab": {
     "base_uri": "https://localhost:8080/",
     "height": 279
    },
    "executionInfo": {
     "elapsed": 309,
     "status": "ok",
     "timestamp": 1632948262325,
     "user": {
      "displayName": "Сергей Певцов",
      "photoUrl": "https://lh3.googleusercontent.com/a/default-user=s64",
      "userId": "03620521566451851588"
     },
     "user_tz": -180
    },
    "id": "LpF0zvZZLKdv",
    "outputId": "c8c1ab1c-0fcc-4b3d-986e-3bfb982c59aa"
   },
   "outputs": [
    {
     "data": {
      "image/png": "[encoded data removed]",
      "text/plain": [
       "<Figure size 432x288 with 1 Axes>"
      ]
     },
     "metadata": {
      "needs_background": "light"
     },
     "output_type": "display_data"
    }
   ],
   "source": [
    "get_error_plot(n_trees, test_errors1, test_errors2, x_label='Trees number', label1_name='test_all', label2_name='test_sgd')"
   ]
  },
  {
   "cell_type": "markdown",
   "metadata": {
    "id": "9fYQ0Tr_P6Kk"
   },
   "source": [
    "У стахостического метода ошибка оказалась меньше"
   ]
  },
  {
   "cell_type": "markdown",
   "metadata": {
    "id": "8OSV_E4IPqN9"
   },
   "source": [
    "## __Задание 3:(опция).__ Реализовать алгоритм градиетного бустинга, основанный на реализации решающего дерева из ДЗ4 / методички к уроку 4. Сделать выводы о качестве алгоритма по сравнению с реализацией из п.1."
   ]
  },
  {
   "cell_type": "code",
   "execution_count": 18,
   "metadata": {
    "id": "PobKkhiNXQ6H"
   },
   "outputs": [],
   "source": [
    "import matplotlib.pyplot as plt\n",
    "import random\n",
    "\n",
    "from matplotlib.colors import ListedColormap\n",
    "from sklearn import datasets\n",
    "\n",
    "import numpy as np"
   ]
  },
  {
   "cell_type": "code",
   "execution_count": 19,
   "metadata": {
    "id": "rugIM8rxXRJn"
   },
   "outputs": [],
   "source": [
    "# Реализуем класс терминального узла (листа)\n",
    "\n",
    "class Leaf:\n",
    "    \n",
    "    def __init__(self, data, labels):\n",
    "        self.data = data\n",
    "        self.labels = labels\n",
    "        self.prediction = self.predict()\n",
    "        \n",
    "    def predict(self):\n",
    "        return  self.labels.mean()\n",
    "    \n",
    "    def classify_object(self, obj):\n",
    "        return self"
   ]
  },
  {
   "cell_type": "code",
   "execution_count": 20,
   "metadata": {
    "id": "_664IkPTXRGC"
   },
   "outputs": [],
   "source": [
    "# Реализуем класс узла\n",
    "\n",
    "class Node:\n",
    "    \n",
    "    def __init__(self, index, t, true_branch, false_branch):\n",
    "        self.index = index  # индекс признака, по которому ведется сравнение с порогом в этом узле\n",
    "        self.t = t  # значение порога\n",
    "        self.true_branch = true_branch  # поддерево, удовлетворяющее условию в узле\n",
    "        self.false_branch = false_branch  # поддерево, не удовлетворяющее условию в узле\n",
    "    \n",
    "    def classify_object(self, obj):\n",
    "        if obj[self.index] <= self.t:\n",
    "          return self.true_branch.classify_object(obj)\n",
    "        else:\n",
    "          return self.false_branch.classify_object(obj)\n",
    "        "
   ]
  },
  {
   "cell_type": "code",
   "execution_count": 21,
   "metadata": {
    "id": "9iXgFXPpX0aa"
   },
   "outputs": [],
   "source": [
    "# Расчет критерия информативности\n",
    "\n",
    "def variance(labels):\n",
    "    v = labels.var()\n",
    "    return v      "
   ]
  },
  {
   "cell_type": "code",
   "execution_count": 22,
   "metadata": {
    "id": "tzhazDpd-4Ab"
   },
   "outputs": [],
   "source": [
    "# Разбиение датасета в узле\n",
    "\n",
    "def split(data, labels, index, t):\n",
    "    \n",
    "    left = np.where(data[:, index] <= t)\n",
    "    right = np.where(data[:, index] > t)\n",
    "        \n",
    "    true_data = data[left]\n",
    "    false_data = data[right]\n",
    "    true_labels = labels[left]\n",
    "    false_labels = labels[right]\n",
    "        \n",
    "    return true_data, false_data, true_labels, false_labels"
   ]
  },
  {
   "cell_type": "code",
   "execution_count": 23,
   "metadata": {},
   "outputs": [],
   "source": [
    "def get_subsample(len_sample, len_subsample):\n",
    "    # будем сохранять не сами признаки, а их индексы\n",
    "    sample_indexes = [i for i in range(len_sample)]\n",
    "    \n",
    "    subsample = []\n",
    "    random.shuffle(sample_indexes)\n",
    "    for _ in range(min(len_sample, len_subsample)):\n",
    "        subsample.append(sample_indexes.pop())\n",
    "        \n",
    "    return subsample"
   ]
  },
  {
   "cell_type": "code",
   "execution_count": 24,
   "metadata": {
    "id": "O-HTc4__4JAo"
   },
   "outputs": [],
   "source": [
    "# Реализуем класс дерева\n",
    "\n",
    "class Tree:\n",
    "\n",
    "    def __init__(self, min_leaf=5, criteria_call=variance, max_level=1000, max_features=1000000):\n",
    "        self.root = None\n",
    "        self.min_leaf = min_leaf # минимальное количество объектов в узле\n",
    "        self.criteria_call = criteria_call #функция расчета критерия информативности\n",
    "        self.max_level = max_level #максимальная глубина дерева\n",
    "        self.max_features = max_features #максимальное количество обрабатываемых признаков \n",
    "\n",
    "    def set_min_leaf(self, min_leaf):\n",
    "        self.min_leaf = min_leaf\n",
    "        return self \n",
    "    \n",
    "    def set_criteria_call(self, criteria_call):\n",
    "        self.criteria_call = criteria_call\n",
    "        return self\n",
    "\n",
    "    def set_max_level(self, max_level):\n",
    "        self.max_level = max_level\n",
    "        return self\n",
    "    \n",
    "    def set_max_features(self, max_features):\n",
    "        self.max_features = max_features\n",
    "        return self\n",
    "\n",
    "    def classify_object(self, obj):\n",
    "        return self.root.classify_object(obj)\n",
    "\n",
    "    def predict(self, data):\n",
    "        classes = []\n",
    "        for obj in data:\n",
    "            leaf_ = self.classify_object(obj)\n",
    "            classes.append(leaf_.prediction)\n",
    "        return classes\n",
    "\n",
    "    def in_leaf(self, data):\n",
    "        classes = []\n",
    "        for obj in data:\n",
    "            leaf_ = self.classify_object(obj)\n",
    "            classes.append(obj in leaf_.data)\n",
    "        return classes\n",
    "\n",
    "    def build(self, data, labels):\n",
    "        self.root = self.build_tree(data, labels)\n",
    "        return self\n",
    "    \n",
    "    def build_tree(self, data, labels, level=0):\n",
    "\n",
    "        quality, t, index = self.find_best_split(data, labels)\n",
    "\n",
    "        #  Базовый случай - прекращаем рекурсию, когда нет прироста в качества\n",
    "        if (quality == 0) | (level >= self.max_level):\n",
    "            return Leaf(data, labels)\n",
    "\n",
    "        true_data, false_data, true_labels, false_labels = split(data, labels, index, t)\n",
    "\n",
    "        # Рекурсивно строим два поддерева\n",
    "        true_branch = self.build_tree(true_data, true_labels, level=level+1)\n",
    "        false_branch = self.build_tree(false_data, false_labels, level=level+1)\n",
    "\n",
    "        # Возвращаем класс узла со всеми поддеревьями, то есть целого дерева\n",
    "        return Node(index, t, true_branch, false_branch)\n",
    "    \n",
    "    def find_best_split(self, data, labels):\n",
    "        current_criteria = self.criteria_call(labels)\n",
    "\n",
    "        best_quality = 0\n",
    "        best_t = None\n",
    "        best_index = None\n",
    "    \n",
    "        n_features = data.shape[1]\n",
    "\n",
    "        # выбор индекса из подвыборки длиной sqrt(n_features)\n",
    "        subsample = get_subsample(n_features, self.max_features)\n",
    "\n",
    "        for index in subsample:\n",
    "            # будем проверять только уникальные значения признака, исключая повторения\n",
    "            t_values = np.unique([row[index] for row in data])\n",
    "        \n",
    "            for t in t_values:\n",
    "                true_data, false_data, true_labels, false_labels = split(data, labels, index, t)\n",
    "                #  пропускаем разбиения, в которых в узле остается менее 5 объектов\n",
    "                if len(true_data) < self.min_leaf or len(false_data) < self.min_leaf:\n",
    "                    continue\n",
    "            \n",
    "                current_quality = self.quality(true_labels, false_labels, current_criteria)\n",
    "            \n",
    "                #  выбираем порог, на котором получается максимальный прирост качества\n",
    "                if current_quality > best_quality:\n",
    "                  best_quality, best_t, best_index = current_quality, t, index\n",
    "\n",
    "        return best_quality, best_t, best_index\n",
    "\n",
    "    def quality(self, left_labels, right_labels, current_criteria):\n",
    "        # доля выбоки, ушедшая в левое поддерево\n",
    "        p = float(left_labels.shape[0]) / (left_labels.shape[0] + right_labels.shape[0])\n",
    "    \n",
    "        return current_criteria - p * self.criteria_call(left_labels) - (1 - p) * self.criteria_call(right_labels)"
   ]
  },
  {
   "cell_type": "code",
   "execution_count": 25,
   "metadata": {
    "id": "7ksYlZHAXr8w"
   },
   "outputs": [],
   "source": [
    "# Реализуем класс лес\n",
    "\n",
    "class GB_Forest:\n",
    "\n",
    "    def __init__(self, n_trees, coefs, eta=0.1, batch_rate=1.0, min_leaf=5, criteria_call=variance, max_level=1000, max_features=1000000):  \n",
    "        self.n_trees = n_trees\n",
    "        self.forest = []\n",
    "        self.min_leaf = min_leaf # минимальное количество объектов в узле\n",
    "        self.criteria_call = criteria_call #функция расчета критерия информативности\n",
    "        self.max_level = max_level #максимальная глубина дерева\n",
    "        self.max_features = max_features #максимальное количество обрабатываемых признаков \n",
    "        self.coefs = coefs.copy()\n",
    "        self.eta = eta\n",
    "        self.batch_rate = batch_rate\n",
    "\n",
    "    def set_min_leaf(self, min_leaf):\n",
    "        self.min_leaf = min_leaf\n",
    "        return self \n",
    "    \n",
    "    def set_criteria_call(self, criteria_call):\n",
    "        self.criteria_call = criteria_call\n",
    "        return self\n",
    "\n",
    "    def set_max_level(self, max_level):\n",
    "        self.max_level = max_level\n",
    "        return self\n",
    "    \n",
    "    def set_max_features(self, max_features):\n",
    "        self.max_features = max_features\n",
    "        return self\n",
    "    \n",
    "    def mean_squared_error(self, y_real, prediction):\n",
    "        return (sum((y_real - prediction)**2)) / len(y_real)\n",
    "    \n",
    "    def bias(self, y, z):\n",
    "        return (y - z)\n",
    "\n",
    "    def build(self,  X_train, X_test, y_train, y_test):\n",
    "    \n",
    "        # Будем записывать ошибки на обучающей и тестовой выборке на каждой итерации в список\n",
    "        train_errors = []\n",
    "        test_errors = []\n",
    "    \n",
    "        for i in range(self.n_trees):\n",
    "            #tree = DecisionTreeRegressor(max_depth=max_depth, random_state=42)\n",
    "            tree = Tree(min_leaf=self.min_leaf, criteria_call=self.criteria_call, max_level=self.max_level, max_features=self.max_features)\n",
    "\n",
    "            # будем обучать модель не на полной выборке, а только на части  случайных объектов\n",
    "            idx = np.array([ False for _ in range(X_train.shape[0])])\n",
    "            idx_indexes = list(range(0, idx.shape[0]))\n",
    "            random.shuffle(idx_indexes)\n",
    "            idx_indexes = np.resize(idx_indexes, int(len(idx_indexes)*self.batch_rate))\n",
    "            idx[idx_indexes]= True\n",
    "\n",
    "            # инициализируем бустинг начальным алгоритмом, возвращающим ноль, \n",
    "            # поэтому первый алгоритм просто обучаем на выборке и добавляем в список\n",
    "            if len(self.forest) == 0:\n",
    "                # обучаем первое дерево на обучающей выборке\n",
    "                tree.build(X_train[idx], y_train[idx])\n",
    "            \n",
    "                train_errors.append(self.mean_squared_error(y_train, self.predict(X_train)))\n",
    "                test_errors.append(self.mean_squared_error(y_test, self.predict(X_test)))\n",
    "            else:\n",
    "                # Получим ответы на текущей композиции\n",
    "                target = self.predict(X_train)\n",
    "            \n",
    "                # алгоритмы начиная со второго обучаем на сдвиг\n",
    "                tree.build(X_train[idx], self.bias(y_train[idx], target[idx]))\n",
    "            \n",
    "                train_errors.append(self.mean_squared_error(y_train, self.predict(X_train)))\n",
    "                test_errors.append(self.mean_squared_error(y_test, self.predict(X_test)))\n",
    "\n",
    "            self.forest.append(tree)\n",
    "        \n",
    "        return train_errors, test_errors\n",
    "\n",
    "    def predict(self, X):\n",
    "        # Реализуемый алгоритм градиентного бустинга будет инициализироваться нулевыми значениями,\n",
    "        # поэтому все деревья из списка trees_list уже являются дополнительными и при предсказании прибавляются с шагом eta\n",
    "        return np.array([sum([self.eta* coef * tree.predict([x])[0] for tree, coef in zip(self.forest, self.coefs)]) for x in X])\n",
    "    \n",
    "    def oob(self, data, labels):\n",
    "\n",
    "        # добавим используемость всех деревьев в список\n",
    "        predictions = []\n",
    "        in_trees = []\n",
    "        for tree in self.forest:\n",
    "            predictions.append(tree.predict(data))\n",
    "            in_trees.append(tree.in_leaf(data))\n",
    "\n",
    "        # сформируем список с предсказаниями для каждого объекта\n",
    "        predictions_per_object = list(zip(*predictions))\n",
    "        # сформируем список с используемостью для каждого объекта\n",
    "        in_trees_per_object = list(zip(*in_trees))\n",
    "\n",
    "        # Для каждого объекта посчитаем ошибку на тех деревьях\n",
    "        # в обучении которых объект не принимал участие (его нет в листьях)\n",
    "        err = 0\n",
    "        for i, obj in enumerate(predictions_per_object):\n",
    "            err_obj = 0\n",
    "            n_obj = 0\n",
    "            for j, predict in enumerate(obj):\n",
    "                if in_trees_per_object[i][j] == False:\n",
    "                    err_obj += np.abs(labels[i] - predict)\n",
    "                    n_obj += 1\n",
    "            if n_obj > 0:\n",
    "                err += err_obj / n_obj\n",
    "        \n",
    "        return err\n"
   ]
  },
  {
   "cell_type": "code",
   "execution_count": 26,
   "metadata": {},
   "outputs": [],
   "source": [
    "# Число деревьев в ансамбле\n",
    "n_trees = 40\n",
    "\n",
    "# для простоты примем коэффициенты равными 1\n",
    "coefs = [1] * n_trees\n",
    "\n",
    "# Шаг\n",
    "eta = 0.05\n",
    "\n",
    "# Максимальная глубина деревьев\n",
    "max_depth = 5\n",
    "\n",
    "forest = GB_Forest(n_trees=n_trees, min_leaf=5, max_level=max_depth, eta=eta, coefs=coefs)\n",
    "train_errors2, test_errors2 = forest.build( X_train, X_test, y_train, y_test)\n",
    "\n",
    "\n",
    "trees1, train_errors1, test_errors1 = gb_fit(n_trees, max_depth, X_train, X_test, y_train, y_test, coefs, eta)"
   ]
  },
  {
   "cell_type": "code",
   "execution_count": 27,
   "metadata": {},
   "outputs": [
    {
     "data": {
      "image/png": "[encoded data removed]",
      "text/plain": [
       "<Figure size 432x288 with 1 Axes>"
      ]
     },
     "metadata": {
      "needs_background": "light"
     },
     "output_type": "display_data"
    }
   ],
   "source": [
    "get_error_plot(n_trees, test_errors1, test_errors2, x_label='Trees number', label1_name='sklearn', label2_name='my_trees')"
   ]
  },
  {
   "cell_type": "markdown",
   "metadata": {},
   "source": [
    "Разницы нет, программа из sklearn дает такую же ошибку как и ансамбль решающих деревьев из ДЗ4"
   ]
  },
  {
   "cell_type": "code",
   "execution_count": null,
   "metadata": {},
   "outputs": [],
   "source": []
  }
 ],
 "metadata": {
  "colab": {
   "authorship_tag": "ABX9TyMb9Z04wKSHLoLPitzBq1JS",
   "collapsed_sections": [],
   "name": "lesson_6.ipynb",
   "provenance": []
  },
  "kernelspec": {
   "display_name": "Python 3",
   "language": "python",
   "name": "python3"
  },
  "language_info": {
   "codemirror_mode": {
    "name": "ipython",
    "version": 3
   },
   "file_extension": ".py",
   "mimetype": "text/x-python",
   "name": "python",
   "nbconvert_exporter": "python",
   "pygments_lexer": "ipython3",
   "version": "3.8.5"
  }
 },
 "nbformat": 4,
 "nbformat_minor": 1
}

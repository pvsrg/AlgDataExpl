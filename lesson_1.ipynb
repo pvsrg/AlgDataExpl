{
 "cells": [
  {
   "cell_type": "markdown",
   "metadata": {},
   "source": [
    "# Практическая работа №1"
   ]
  },
  {
   "cell_type": "markdown",
   "metadata": {},
   "source": [
    "## 1. Подберите скорость обучения (alpha) и количество итераций для градиентного спуска."
   ]
  },
  {
   "cell_type": "markdown",
   "metadata": {},
   "source": [
    "будем искать коэффициент обучения при котором алгоритм за минимальное количество итераций достигнет заданной точности. Критерием точности будет среднеквадратичная разность весов на текущей и придыдущей итерациях."
   ]
  },
  {
   "cell_type": "code",
   "execution_count": 30,
   "metadata": {},
   "outputs": [],
   "source": [
    "import numpy as np\n",
    "import matplotlib.pyplot as plt"
   ]
  },
  {
   "cell_type": "code",
   "execution_count": 65,
   "metadata": {},
   "outputs": [],
   "source": [
    "y = [45, 55, 50, 59, 65, 35, 75, 80, 50, 60]"
   ]
  },
  {
   "cell_type": "code",
   "execution_count": 66,
   "metadata": {},
   "outputs": [
    {
     "data": {
      "text/plain": [
       "(2, 10)"
      ]
     },
     "execution_count": 66,
     "metadata": {},
     "output_type": "execute_result"
    }
   ],
   "source": [
    "# y = k*x + b\n",
    "# y = k_1*x_1 + k_2*x_2 + ... + b\n",
    "\n",
    "X = np.array([[1, 1, 1, 1, 1, 1, 1, 1, 1, 1],\n",
    "              [1, 1, 2, 1, 3, 0, 5, 10, 1, 2]])\n",
    "X.shape"
   ]
  },
  {
   "cell_type": "code",
   "execution_count": 67,
   "metadata": {},
   "outputs": [],
   "source": [
    "def calc_mse(y, y_pred):\n",
    "    err = np.mean((y - y_pred)**2)\n",
    "    return err"
   ]
  },
  {
   "cell_type": "code",
   "execution_count": 91,
   "metadata": {},
   "outputs": [
    {
     "name": "stderr",
     "output_type": "stream",
     "text": [
      "<ipython-input-67-bd4c0e5d829e>:2: RuntimeWarning: overflow encountered in square\n",
      "  err = np.mean((y - y_pred)**2)\n"
     ]
    },
    {
     "name": "stdout",
     "output_type": "stream",
     "text": [
      "Алгоритм достигает точности = 0.0000001 за 130 итераций при коэффициенте обучения 0.063\n"
     ]
    }
   ],
   "source": [
    "# n - кол-во объектов\n",
    "n = X.shape[1]\n",
    "\n",
    "#критерий сходимости - минималтьная значение среднеквадратичной разности весов на текущем и предыдущем шаге\n",
    "eps = 0.0000001\n",
    "\n",
    "#количество итераций на предыдущем значении обучения alpha\n",
    "iter_last = np.inf\n",
    "\n",
    "alpha_last = 1\n",
    "\n",
    "for alpha in np.arange(0.1, 0.001, -0.001): #np.linspace(0.1, 0.001, num=100, endpoint=True):\n",
    "\n",
    "    W = np.array([1, 0.5])\n",
    "\n",
    "    for i in range(1000):\n",
    "        try:\n",
    "            W_last = W.copy()\n",
    "            y_pred = np.dot(W, X)\n",
    "            err = calc_mse(y, y_pred)\n",
    "            W -= alpha * (1/n * 2 * np.dot(X,y_pred - y))\n",
    "        except:\n",
    "            calc_success = False\n",
    "            break            \n",
    "        if calc_mse(W, W_last) <= eps:\n",
    "            calc_success = True\n",
    "            break\n",
    "    else:\n",
    "        calc_success = False\n",
    "    \n",
    "    if calc_success:\n",
    "        #print(f'{alpha:<5.3f}, {i}, {W}, {err}')\n",
    "        if iter_last < i:\n",
    "            break\n",
    "        iter_last = i\n",
    "        alpha_last = alpha\n",
    "else:\n",
    "    calc_success = False\n",
    "\n",
    "if calc_success:\n",
    "    print(f'Алгоритм достигает точности = {eps:<9.7f} за {iter_last} итераций при коэффициенте обучения {alpha_last:<5.3f}')"
   ]
  },
  {
   "cell_type": "markdown",
   "metadata": {},
   "source": [
    "## 2 (опция). В этом коде мы избавляемся от итераций по весам, но тут есть ошибка, исправьте ее:"
   ]
  },
  {
   "cell_type": "code",
   "execution_count": null,
   "metadata": {},
   "outputs": [],
   "source": [
    "for i in range(1000):\n",
    "    y_pred = np.dot(W, X)\n",
    "    err = calc_mse(y, y_pred)\n",
    "    '''for ii in range(W.shape[0]):\n",
    "    W[ii] -= alpha * (1/n * 2 * np.sum(X[ii] * (y_pred - y)))'''\n",
    "    W -= alpha * (1/n * 2 * np.dot(X,y_pred - y))\n",
    "    if i % 100 == 0:\n",
    "    print(i, W, err)"
   ]
  }
 ],
 "metadata": {
  "kernelspec": {
   "display_name": "Python 3",
   "language": "python",
   "name": "python3"
  },
  "language_info": {
   "codemirror_mode": {
    "name": "ipython",
    "version": 3
   },
   "file_extension": ".py",
   "mimetype": "text/x-python",
   "name": "python",
   "nbconvert_exporter": "python",
   "pygments_lexer": "ipython3",
   "version": "3.8.5"
  }
 },
 "nbformat": 4,
 "nbformat_minor": 4
}
